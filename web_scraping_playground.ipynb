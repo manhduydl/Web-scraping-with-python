{
 "cells": [
  {
   "cell_type": "code",
   "execution_count": 1,
   "metadata": {},
   "outputs": [],
   "source": [
    "from bs4 import BeautifulSoup\n",
    "from urllib.request import urlopen"
   ]
  },
  {
   "cell_type": "code",
   "execution_count": 3,
   "metadata": {},
   "outputs": [
    {
     "name": "stdout",
     "output_type": "stream",
     "text": [
      "<h1>An Interesting Title</h1>\n"
     ]
    }
   ],
   "source": [
    "html = urlopen('http://www.pythonscraping.com/pages/page1.html')\n",
    "bs = BeautifulSoup(html.read(), 'html.parser')\n",
    "\n",
    "print(bs.h1)"
   ]
  },
  {
   "cell_type": "code",
   "execution_count": 11,
   "metadata": {},
   "outputs": [
    {
     "name": "stdout",
     "output_type": "stream",
     "text": [
      "<span class=\"red\">Well, Prince, so Genoa and Lucca are now just family estates of the\n",
      "Buonapartes. But I warn you, if you don't tell me that this means war,\n",
      "if you still try to defend the infamies and horrors perpetrated by\n",
      "that Antichrist- I really believe he is Antichrist- I will have\n",
      "nothing more to do with you and you are no longer my friend, no longer\n",
      "my 'faithful slave,' as you call yourself! But how do you do? I see\n",
      "I have frightened you- sit down and tell me all the news.</span>\n"
     ]
    }
   ],
   "source": [
    "html2 = urlopen('https://www.pythonscraping.com/pages/warandpeace.html')\n",
    "bs = BeautifulSoup(html2, 'html.parser')\n",
    "\n",
    "print(bs.span)"
   ]
  },
  {
   "cell_type": "code",
   "execution_count": 13,
   "metadata": {},
   "outputs": [
    {
     "data": {
      "text/plain": [
       "[<img src=\"../img/gifts/logo.jpg\" style=\"float:left;\"/>,\n",
       " <tr class=\"gift\" id=\"gift1\"><td>\n",
       " Vegetable Basket\n",
       " </td><td>\n",
       " This vegetable basket is the perfect gift for your health conscious (or overweight) friends!\n",
       " <span class=\"excitingNote\">Now with super-colorful bell peppers!</span>\n",
       " </td><td>\n",
       " $15.00\n",
       " </td><td>\n",
       " <img src=\"../img/gifts/img1.jpg\"/>\n",
       " </td></tr>,\n",
       " <tr class=\"gift\" id=\"gift2\"><td>\n",
       " Russian Nesting Dolls\n",
       " </td><td>\n",
       " Hand-painted by trained monkeys, these exquisite dolls are priceless! And by \"priceless,\" we mean \"extremely expensive\"! <span class=\"excitingNote\">8 entire dolls per set! Octuple the presents!</span>\n",
       " </td><td>\n",
       " $10,000.52\n",
       " </td><td>\n",
       " <img src=\"../img/gifts/img2.jpg\"/>\n",
       " </td></tr>,\n",
       " <tr class=\"gift\" id=\"gift3\"><td>\n",
       " Fish Painting\n",
       " </td><td>\n",
       " If something seems fishy about this painting, it's because it's a fish! <span class=\"excitingNote\">Also hand-painted by trained monkeys!</span>\n",
       " </td><td>\n",
       " $10,005.00\n",
       " </td><td>\n",
       " <img src=\"../img/gifts/img3.jpg\"/>\n",
       " </td></tr>,\n",
       " <tr class=\"gift\" id=\"gift4\"><td>\n",
       " Dead Parrot\n",
       " </td><td>\n",
       " This is an ex-parrot! <span class=\"excitingNote\">Or maybe he's only resting?</span>\n",
       " </td><td>\n",
       " $0.50\n",
       " </td><td>\n",
       " <img src=\"../img/gifts/img4.jpg\"/>\n",
       " </td></tr>,\n",
       " <tr class=\"gift\" id=\"gift5\"><td>\n",
       " Mystery Box\n",
       " </td><td>\n",
       " If you love suprises, this mystery box is for you! Do not place on light-colored surfaces. May cause oil staining. <span class=\"excitingNote\">Keep your friends guessing!</span>\n",
       " </td><td>\n",
       " $1.50\n",
       " </td><td>\n",
       " <img src=\"../img/gifts/img6.jpg\"/>\n",
       " </td></tr>]"
      ]
     },
     "execution_count": 13,
     "metadata": {},
     "output_type": "execute_result"
    }
   ],
   "source": [
    "html3 = urlopen('https://www.pythonscraping.com/pages/page3.html')\n",
    "bs = BeautifulSoup(html3, 'html.parser')\n",
    "\n",
    "bs.find_all(lambda tag: len(tag.attrs) == 2)"
   ]
  },
  {
   "cell_type": "code",
   "execution_count": null,
   "metadata": {},
   "outputs": [],
   "source": [
    "html = urlopen('http://en.wikipedia.org/wiki/Kevin_Bacon')\n",
    "bs = BeautifulSoup(html, 'html.parser')\n",
    "\n",
    "links = bs.find_all('a')\n",
    "for link in links:\n",
    "    if 'href' in link.attrs:\n",
    "        print(link.attrs['href'])"
   ]
  },
  {
   "cell_type": "code",
   "execution_count": 1,
   "metadata": {},
   "outputs": [
    {
     "name": "stdout",
     "output_type": "stream",
     "text": [
      "Main Page\n",
      "<p>The <b><a href=\"/wiki/Donner_Party\" title=\"Donner Party\">Donner Party</a></b> was a group of <a href=\"/wiki/American_pioneer\" title=\"American pioneer\">American pioneers</a> who set out for California in a <a href=\"/wiki/Wagon_train\" title=\"Wagon train\">wagon train</a>, but became snowbound in the <a href=\"/wiki/Sierra_Nevada\" title=\"Sierra Nevada\">Sierra Nevada</a> mountains in November 1846. Running out of food, some resorted to <a href=\"/wiki/Human_cannibalism\" title=\"Human cannibalism\">cannibalism</a> to survive. The journey west usually took between four and six months, but the Donner Party had been slowed by following a new route called the <a href=\"/wiki/Hastings_Cutoff\" title=\"Hastings Cutoff\">Hastings Cutoff</a>, which crossed the <a href=\"/wiki/Rocky_Mountains\" title=\"Rocky Mountains\">Rocky Mountains</a>' <a href=\"/wiki/Wasatch_Range\" title=\"Wasatch Range\">Wasatch Range</a> and the <a href=\"/wiki/Great_Salt_Lake_Desert\" title=\"Great Salt Lake Desert\">Great Salt Lake Desert</a> in present-day <a href=\"/wiki/Utah\" title=\"Utah\">Utah</a>. They lost many cattle and wagons in the rugged terrain, and divisions formed within the group. Their food supplies ran low after they became trapped by an early, heavy snowfall high in the mountains. In mid-December some of the group set out on foot and were able to obtain help. Of the 87 members of the party, 48 survived to reach California. Historians have described the episode as one of the most spectacular tragedies in California history. (<b><a href=\"/wiki/Donner_Party\" title=\"Donner Party\">Full article...</a></b>)\n",
      "</p>\n",
      "abc\n",
      "--------------------\n",
      "/wiki/Main_Page\n",
      "Main Page\n",
      "<p>The <b><a href=\"/wiki/Donner_Party\" title=\"Donner Party\">Donner Party</a></b> was a group of <a href=\"/wiki/American_pioneer\" title=\"American pioneer\">American pioneers</a> who set out for California in a <a href=\"/wiki/Wagon_train\" title=\"Wagon train\">wagon train</a>, but became snowbound in the <a href=\"/wiki/Sierra_Nevada\" title=\"Sierra Nevada\">Sierra Nevada</a> mountains in November 1846. Running out of food, some resorted to <a href=\"/wiki/Human_cannibalism\" title=\"Human cannibalism\">cannibalism</a> to survive. The journey west usually took between four and six months, but the Donner Party had been slowed by following a new route called the <a href=\"/wiki/Hastings_Cutoff\" title=\"Hastings Cutoff\">Hastings Cutoff</a>, which crossed the <a href=\"/wiki/Rocky_Mountains\" title=\"Rocky Mountains\">Rocky Mountains</a>' <a href=\"/wiki/Wasatch_Range\" title=\"Wasatch Range\">Wasatch Range</a> and the <a href=\"/wiki/Great_Salt_Lake_Desert\" title=\"Great Salt Lake Desert\">Great Salt Lake Desert</a> in present-day <a href=\"/wiki/Utah\" title=\"Utah\">Utah</a>. They lost many cattle and wagons in the rugged terrain, and divisions formed within the group. Their food supplies ran low after they became trapped by an early, heavy snowfall high in the mountains. In mid-December some of the group set out on foot and were able to obtain help. Of the 87 members of the party, 48 survived to reach California. Historians have described the episode as one of the most spectacular tragedies in California history. (<b><a href=\"/wiki/Donner_Party\" title=\"Donner Party\">Full article...</a></b>)\n",
      "</p>\n",
      "abc\n",
      "--------------------\n",
      "/wiki/Wikipedia:Contents\n",
      "Wikipedia:Contents\n",
      "<p class=\"mw-empty-elt\">\n",
      "</p>\n",
      "abc\n",
      "--------------------\n",
      "/wiki/Portal:Current_events\n",
      "Portal:Current events\n",
      "<p><span class=\"noprint\" id=\"coordinates\"><a href=\"/wiki/Portal:Current_events/Edit_instructions\" title=\"Portal:Current events/Edit instructions\">Edit instructions</a></span>\n",
      "</p>\n",
      "abc\n",
      "--------------------\n",
      "/wiki/Special:Random\n",
      "Women's Asia Cup\n",
      "<p class=\"mw-empty-elt\">\n",
      "</p>\n",
      "abc\n",
      "--------------------\n",
      "/wiki/Wikipedia:About\n",
      "Wikipedia:About\n",
      "<p class=\"mw-empty-elt\">\n",
      "</p>\n",
      "abc\n",
      "--------------------\n",
      "/wiki/Help:Contents\n",
      "Help:Contents\n",
      "<p>\n",
      "<style data-mw-deduplicate=\"TemplateStyles:r1012508797\">.mw-parser-output .helpContents-wrapper{display:flex;flex-wrap:wrap}.mw-parser-output .helpContents-header{flex:1 0 100%;padding-bottom:1em;border-bottom:1px solid #a2a9b1;text-align:center}.mw-parser-output .helpContents-section{position:relative;flex:1 0 50%;min-width:380px;box-sizing:border-box;margin:1em 0;padding-left:30px;padding-right:20px}.mw-parser-output .helpContents-section h2{font-size:21px;padding:0;margin-top:1em;margin-bottom:0.25em;line-height:1.5}.mw-parser-output .helpContents-section ul{margin-left:0;padding-left:0}.mw-parser-output .helpContents-icon{position:absolute;top:25px;left:0;line-height:1;opacity:0.7}.mw-parser-output .helpContents-additional-search{text-align:center;margin-bottom:1em}</style>\n",
      "</p>\n",
      "abc\n",
      "--------------------\n",
      "/wiki/Help:Introduction\n",
      "Help:Introduction\n",
      "<p><style data-mw-deduplicate=\"TemplateStyles:r1156591132\">.mw-parser-output .introtosingle__main{position:relative;box-sizing:border-box;box-shadow:2px 2px 2px #CCC;max-width:100%;overflow:hidden;border:1px solid black;margin:auto;padding-bottom:20px}.mw-parser-output .introtosingle__main p{margin-bottom:2.0em}.mw-parser-output .introtosingle__main-withbackground{background-image:url(\"https://upload.wikimedia.org/wikipedia/commons/d/d9/Wikipedia-logo-v2-o10.svg\");background-position:center -500px;background-repeat:no-repeat;background-size:auto 150%}.mw-parser-output .introtosingle__main-title{font-size:250%;line-height:150%;background:#777;color:#FFF;text-align:center;align-items:center;justify-content:center}.mw-parser-output .introtosingle__lead{background-color:#EEE;background-color:rgba(221,221,221,0.5);padding:30px 60px;margin-bottom:15px}.mw-parser-output .introtosingle__base{box-sizing:border-box;max-width:1100px;min-height:55px;margin:auto;padding:5px 20px;font-size:1.1em;background:#EEE;border:1px solid lightgrey}.mw-parser-output .introtosingle__columns{display:flex;flex-direction:row;flex-wrap:wrap-reverse;justify-content:center}.mw-parser-output .introtosingle__columns-left,.mw-parser-output .introtosingle__columns-left-noborder,.mw-parser-output .introtosingle__columns-right{display:inline-block;flex:1 1 0;align-self:flex-end;vertical-align:top;min-width:200px;max-width:300px;padding:10px}.mw-parser-output .introtosingle__columns-left{text-align:right;justify-content:right;border-right:solid 1px #ddd}.mw-parser-output .introtosingle__columns-left-noborder{text-align:right;justify-content:right}.mw-parser-output .introtosingle__columns-right{text-align:left;justify-content:left}@media screen and (min-width:1101px){.mw-parser-output .introtosingle__main{max-width:1100px}}</style>\n",
      "</p>\n",
      "abc\n",
      "--------------------\n",
      "/wiki/Wikipedia:Community_portal\n",
      "Wikipedia:Community portal\n",
      "<p class=\"mw-empty-elt\">\n",
      "</p>\n",
      "abc\n",
      "--------------------\n",
      "/wiki/Special:RecentChanges\n",
      "Recent changes\n",
      "<p>This is a list of recent changes to Wikipedia.\n",
      "</p>\n",
      "abc\n",
      "--------------------\n",
      "/wiki/Wikipedia:File_upload_wizard\n",
      "Wikipedia:File upload wizard\n",
      "<p>Thank you for offering to contribute an image or other media file for use on Wikipedia. This wizard will guide you through a questionnaire prompting you for the appropriate copyright and sourcing information for each file. Please ensure you understand <a href=\"/wiki/Wikipedia:Copyrights\" title=\"Wikipedia:Copyrights\">copyright</a> and the <a href=\"/wiki/Wikipedia:Image_use_policy\" title=\"Wikipedia:Image use policy\">image use policy</a> before proceeding.\n",
      "</p>\n",
      "abc\n",
      "--------------------\n",
      "/wiki/Special:Search\n",
      "Search\n"
     ]
    },
    {
     "ename": "IndexError",
     "evalue": "list index out of range",
     "output_type": "error",
     "traceback": [
      "\u001b[0;31m---------------------------------------------------------------------------\u001b[0m",
      "\u001b[0;31mIndexError\u001b[0m                                Traceback (most recent call last)",
      "Cell \u001b[0;32mIn[1], line 26\u001b[0m\n\u001b[1;32m     23\u001b[0m                 pages\u001b[38;5;241m.\u001b[39madd(newPage)\n\u001b[1;32m     24\u001b[0m                 getLinks(newPage)\n\u001b[0;32m---> 26\u001b[0m \u001b[43mgetLinks\u001b[49m\u001b[43m(\u001b[49m\u001b[38;5;124;43m'\u001b[39;49m\u001b[38;5;124;43m'\u001b[39;49m\u001b[43m)\u001b[49m\n",
      "Cell \u001b[0;32mIn[1], line 24\u001b[0m, in \u001b[0;36mgetLinks\u001b[0;34m(pageUrl)\u001b[0m\n\u001b[1;32m     22\u001b[0m \u001b[38;5;28mprint\u001b[39m(newPage)\n\u001b[1;32m     23\u001b[0m pages\u001b[38;5;241m.\u001b[39madd(newPage)\n\u001b[0;32m---> 24\u001b[0m \u001b[43mgetLinks\u001b[49m\u001b[43m(\u001b[49m\u001b[43mnewPage\u001b[49m\u001b[43m)\u001b[49m\n",
      "Cell \u001b[0;32mIn[1], line 24\u001b[0m, in \u001b[0;36mgetLinks\u001b[0;34m(pageUrl)\u001b[0m\n\u001b[1;32m     22\u001b[0m \u001b[38;5;28mprint\u001b[39m(newPage)\n\u001b[1;32m     23\u001b[0m pages\u001b[38;5;241m.\u001b[39madd(newPage)\n\u001b[0;32m---> 24\u001b[0m \u001b[43mgetLinks\u001b[49m\u001b[43m(\u001b[49m\u001b[43mnewPage\u001b[49m\u001b[43m)\u001b[49m\n",
      "    \u001b[0;31m[... skipping similar frames: getLinks at line 24 (8 times)]\u001b[0m\n",
      "Cell \u001b[0;32mIn[1], line 24\u001b[0m, in \u001b[0;36mgetLinks\u001b[0;34m(pageUrl)\u001b[0m\n\u001b[1;32m     22\u001b[0m \u001b[38;5;28mprint\u001b[39m(newPage)\n\u001b[1;32m     23\u001b[0m pages\u001b[38;5;241m.\u001b[39madd(newPage)\n\u001b[0;32m---> 24\u001b[0m \u001b[43mgetLinks\u001b[49m\u001b[43m(\u001b[49m\u001b[43mnewPage\u001b[49m\u001b[43m)\u001b[49m\n",
      "Cell \u001b[0;32mIn[1], line 11\u001b[0m, in \u001b[0;36mgetLinks\u001b[0;34m(pageUrl)\u001b[0m\n\u001b[1;32m      9\u001b[0m \u001b[38;5;28;01mtry\u001b[39;00m:\n\u001b[1;32m     10\u001b[0m     \u001b[38;5;28mprint\u001b[39m(bs\u001b[38;5;241m.\u001b[39mh1\u001b[38;5;241m.\u001b[39mget_text())\n\u001b[0;32m---> 11\u001b[0m     \u001b[38;5;28mprint\u001b[39m(\u001b[43mbs\u001b[49m\u001b[38;5;241;43m.\u001b[39;49m\u001b[43mfind\u001b[49m\u001b[43m(\u001b[49m\u001b[38;5;28;43mid\u001b[39;49m\u001b[38;5;241;43m=\u001b[39;49m\u001b[38;5;124;43m'\u001b[39;49m\u001b[38;5;124;43mmw-content-text\u001b[39;49m\u001b[38;5;124;43m'\u001b[39;49m\u001b[43m)\u001b[49m\u001b[38;5;241;43m.\u001b[39;49m\u001b[43mfind_all\u001b[49m\u001b[43m(\u001b[49m\u001b[38;5;124;43m'\u001b[39;49m\u001b[38;5;124;43mp\u001b[39;49m\u001b[38;5;124;43m'\u001b[39;49m\u001b[43m)\u001b[49m\u001b[43m[\u001b[49m\u001b[38;5;241;43m0\u001b[39;49m\u001b[43m]\u001b[49m)\n\u001b[1;32m     12\u001b[0m     \u001b[38;5;28mprint\u001b[39m(bs\u001b[38;5;241m.\u001b[39mfind(\u001b[38;5;28mid\u001b[39m\u001b[38;5;241m=\u001b[39m\u001b[38;5;124m'\u001b[39m\u001b[38;5;124mca-edit\u001b[39m\u001b[38;5;124m'\u001b[39m)\u001b[38;5;241m.\u001b[39mfind(\u001b[38;5;124m'\u001b[39m\u001b[38;5;124mspan\u001b[39m\u001b[38;5;124m'\u001b[39m)\u001b[38;5;241m.\u001b[39mfind(\u001b[38;5;124m'\u001b[39m\u001b[38;5;124ma\u001b[39m\u001b[38;5;124m'\u001b[39m)\u001b[38;5;241m.\u001b[39mattrs[\u001b[38;5;124m'\u001b[39m\u001b[38;5;124mhref\u001b[39m\u001b[38;5;124m'\u001b[39m])\n\u001b[1;32m     13\u001b[0m \u001b[38;5;28;01mexcept\u001b[39;00m \u001b[38;5;167;01mAttributeError\u001b[39;00m:\n",
      "\u001b[0;31mIndexError\u001b[0m: list index out of range"
     ]
    }
   ],
   "source": [
    "from urllib.request import urlopen\n",
    "from bs4 import BeautifulSoup\n",
    "import re\n",
    "\n",
    "pages = set()\n",
    "def getLinks(pageUrl):\n",
    "    html = urlopen('http://en.wikipedia.org{}'.format(pageUrl))\n",
    "    bs = BeautifulSoup(html, 'html.parser')\n",
    "    try:\n",
    "        print(bs.h1.get_text())\n",
    "        print(bs.find(id='mw-content-text').find_all('p')[0])\n",
    "        print(bs.find(id='ca-edit').find('span').find('a').attrs['href'])\n",
    "    except AttributeError:\n",
    "        print('abc')\n",
    "    \n",
    "    for link in bs.find_all('a', href=re.compile('^(/wiki/)')):\n",
    "        if 'href' in link.attrs:\n",
    "            if link.attrs['href'] not in pages:\n",
    "                # We have encountered a new page\n",
    "                newPage = link.attrs['href']\n",
    "                print('-'*20)\n",
    "                print(newPage)\n",
    "                pages.add(newPage)\n",
    "                getLinks(newPage)\n",
    "\n",
    "getLinks('')"
   ]
  }
 ],
 "metadata": {
  "kernelspec": {
   "display_name": "Python 3 (ipykernel)",
   "language": "python",
   "name": "python3"
  },
  "language_info": {
   "codemirror_mode": {
    "name": "ipython",
    "version": 3
   },
   "file_extension": ".py",
   "mimetype": "text/x-python",
   "name": "python",
   "nbconvert_exporter": "python",
   "pygments_lexer": "ipython3",
   "version": "3.11.9"
  }
 },
 "nbformat": 4,
 "nbformat_minor": 4
}
